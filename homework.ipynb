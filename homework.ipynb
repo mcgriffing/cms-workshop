{
 "cells": [
  {
   "cell_type": "code",
   "execution_count": 1,
   "metadata": {},
   "outputs": [],
   "source": [
    "import numpy\n",
    "import os"
   ]
  },
  {
   "cell_type": "code",
   "execution_count": 46,
   "metadata": {},
   "outputs": [
    {
     "name": "stdout",
     "output_type": "stream",
     "text": [
      "data\\benzene.xyz\n"
     ]
    }
   ],
   "source": [
    "file_location = os.path.join('data', 'benzene.xyz')\n",
    "print(file_location)"
   ]
  },
  {
   "cell_type": "code",
   "execution_count": 47,
   "metadata": {},
   "outputs": [],
   "source": [
    "file = numpy.genfromtxt(fname=file_location, skip_header=2, dtype='unicode')"
   ]
  },
  {
   "cell_type": "code",
   "execution_count": 48,
   "metadata": {},
   "outputs": [],
   "source": [
    "xyz_file= open(file_location, 'r')"
   ]
  },
  {
   "cell_type": "code",
   "execution_count": 49,
   "metadata": {},
   "outputs": [],
   "source": [
    "data = xyz_file.readlines()"
   ]
  },
  {
   "cell_type": "code",
   "execution_count": 50,
   "metadata": {},
   "outputs": [
    {
     "name": "stdout",
     "output_type": "stream",
     "text": [
      "['12\\n', 'benzene example\\n', '  C        0.00000        1.40272        0.00000\\n', '  H        0.00000        2.49029        0.00000\\n', '  C       -1.21479        0.70136        0.00000\\n', '  H       -2.15666        1.24515        0.00000\\n', '  C       -1.21479       -0.70136        0.00000\\n', '  H       -2.15666       -1.24515        0.00000\\n', '  C        0.00000       -1.40272        0.00000\\n', '  H        0.00000       -2.49029        0.00000\\n', '  C        1.21479       -0.70136        0.00000\\n', '  H        2.15666       -1.24515        0.00000\\n', '  C        1.21479        0.70136        0.00000\\n', '  H        2.15666        1.24515        0.00000']\n"
     ]
    }
   ],
   "source": [
    "print(data)"
   ]
  },
  {
   "cell_type": "code",
   "execution_count": 51,
   "metadata": {},
   "outputs": [
    {
     "name": "stdout",
     "output_type": "stream",
     "text": [
      "12\n"
     ]
    }
   ],
   "source": [
    "num_atom = int(data[0])\n",
    "print(num_atom)"
   ]
  },
  {
   "cell_type": "code",
   "execution_count": 52,
   "metadata": {},
   "outputs": [],
   "source": [
    "coord_data = data[2:]"
   ]
  },
  {
   "cell_type": "code",
   "execution_count": 53,
   "metadata": {},
   "outputs": [
    {
     "name": "stdout",
     "output_type": "stream",
     "text": [
      "['  C        0.00000        1.40272        0.00000\\n', '  H        0.00000        2.49029        0.00000\\n', '  C       -1.21479        0.70136        0.00000\\n', '  H       -2.15666        1.24515        0.00000\\n', '  C       -1.21479       -0.70136        0.00000\\n', '  H       -2.15666       -1.24515        0.00000\\n', '  C        0.00000       -1.40272        0.00000\\n', '  H        0.00000       -2.49029        0.00000\\n', '  C        1.21479       -0.70136        0.00000\\n', '  H        2.15666       -1.24515        0.00000\\n', '  C        1.21479        0.70136        0.00000\\n', '  H        2.15666        1.24515        0.00000']\n"
     ]
    }
   ],
   "source": [
    "print(coord_data)"
   ]
  },
  {
   "cell_type": "code",
   "execution_count": 54,
   "metadata": {},
   "outputs": [],
   "source": [
    "symbols= []\n",
    "coordinates = []\n",
    "\n",
    "for atom in coord_data:\n",
    "    atom_data = atom.split()\n",
    "    symbol = atom_data[0]\n",
    "    symbols.append(symbol)\n",
    "    x, y, z = atom_data[1], atom_data[2], atom_data[3]\n",
    "    coordinates.append([float(x), float(y), float(z)])"
   ]
  },
  {
   "cell_type": "code",
   "execution_count": 55,
   "metadata": {},
   "outputs": [
    {
     "name": "stdout",
     "output_type": "stream",
     "text": [
      "['C', 'H', 'C', 'H', 'C', 'H', 'C', 'H', 'C', 'H', 'C', 'H']\n"
     ]
    }
   ],
   "source": [
    "print(symbols)"
   ]
  },
  {
   "cell_type": "code",
   "execution_count": 56,
   "metadata": {},
   "outputs": [
    {
     "name": "stdout",
     "output_type": "stream",
     "text": [
      "[[0.0, 1.40272, 0.0], [0.0, 2.49029, 0.0], [-1.21479, 0.70136, 0.0], [-2.15666, 1.24515, 0.0], [-1.21479, -0.70136, 0.0], [-2.15666, -1.24515, 0.0], [0.0, -1.40272, 0.0], [0.0, -2.49029, 0.0], [1.21479, -0.70136, 0.0], [2.15666, -1.24515, 0.0], [1.21479, 0.70136, 0.0], [2.15666, 1.24515, 0.0]]\n"
     ]
    }
   ],
   "source": [
    "print(coordinates)"
   ]
  },
  {
   "cell_type": "code",
   "execution_count": 57,
   "metadata": {},
   "outputs": [],
   "source": [
    "def calculate_distance(atom1, atom2): \n",
    "    x_distance = atom1[0]-atom2[0]\n",
    "    y_distance = atom1[1]-atom2[1]\n",
    "    z_distance = atom1[2]-atom2[2]\n",
    "    distance = numpy.sqrt(x_distance**2+y_distance**2+z_distance**2)\n",
    "    return distance"
   ]
  },
  {
   "cell_type": "code",
   "execution_count": 58,
   "metadata": {},
   "outputs": [
    {
     "name": "stdout",
     "output_type": "stream",
     "text": [
      "H to C: 1.088\n",
      "C to C: 1.403\n",
      "H to C: 1.088\n",
      "C to C: 1.403\n",
      "H to C: 1.088\n",
      "C to C: 1.403\n",
      "H to C: 1.088\n",
      "C to C: 1.403\n",
      "H to C: 1.088\n",
      "C to C: 1.403\n",
      "C to C: 1.403\n",
      "H to C: 1.088\n"
     ]
    }
   ],
   "source": [
    "for numA, atomA in enumerate(coordinates): \n",
    "    for numB, atomB in enumerate(coordinates): \n",
    "        if numB<numA:\n",
    "            x_distance = atomA[0]-atomB[0]\n",
    "            y_distance = atomA[1]-atomB[1]\n",
    "            z_distance = atomA[2]-atomB[2]\n",
    "            distance = numpy.sqrt(x_distance**2 + y_distance**2 + z_distance**2) \n",
    "            if distance>0 and distance<1.5:\n",
    "                print(F'{symbols[numA]} to {symbols[numB]}: {distance:.3f}')"
   ]
  },
  {
   "cell_type": "markdown",
   "metadata": {},
   "source": [
    "def function_name(parameters): \n",
    "    #lines of code \n",
    "    #lines of code \n",
    "    #lines of code \n",
    "    return value_to_return "
   ]
  },
  {
   "cell_type": "code",
   "execution_count": 59,
   "metadata": {},
   "outputs": [],
   "source": [
    "def bond_check(bond_distance,minimum_value=0,maximum_value=1.5):\n",
    "    if bond_distance>minimum_value and bond_distance<maximum_value :\n",
    "        return True \n",
    "    else: \n",
    "        return False"
   ]
  },
  {
   "cell_type": "code",
   "execution_count": 60,
   "metadata": {},
   "outputs": [
    {
     "name": "stdout",
     "output_type": "stream",
     "text": [
      "H to C : 1.088\n",
      "C to C : 1.403\n",
      "H to C : 1.088\n",
      "C to C : 1.403\n",
      "H to C : 1.088\n",
      "C to C : 1.403\n",
      "H to C : 1.088\n",
      "C to C : 1.403\n",
      "H to C : 1.088\n",
      "C to C : 1.403\n",
      "C to C : 1.403\n",
      "H to C : 1.088\n"
     ]
    }
   ],
   "source": [
    "for numA, atomA in enumerate(coordinates): \n",
    "    for numB, atomB in enumerate(coordinates):\n",
    "        if numB<numA: \n",
    "            distance_AB = calculate_distance(atomA, atomB)\n",
    "            if bond_check(distance_AB):\n",
    "                print(F'{symbols[numA]} to {symbols[numB]} : {distance_AB:.3f}')"
   ]
  },
  {
   "cell_type": "code",
   "execution_count": null,
   "metadata": {},
   "outputs": [],
   "source": []
  }
 ],
 "metadata": {
  "kernelspec": {
   "display_name": "Python 3",
   "language": "python",
   "name": "python3"
  },
  "language_info": {
   "codemirror_mode": {
    "name": "ipython",
    "version": 3
   },
   "file_extension": ".py",
   "mimetype": "text/x-python",
   "name": "python",
   "nbconvert_exporter": "python",
   "pygments_lexer": "ipython3",
   "version": "3.7.3"
  }
 },
 "nbformat": 4,
 "nbformat_minor": 2
}
